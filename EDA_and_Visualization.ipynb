{
 "cells": [
  {
   "cell_type": "code",
   "execution_count": null,
   "id": "254308fe-b715-484f-af21-707be0ab9399",
   "metadata": {},
   "outputs": [],
   "source": [
    "EDA_and_Visualization.ipynb"
   ]
  },
  {
   "cell_type": "code",
   "execution_count": null,
   "id": "e5b17e40-ed6e-4e4d-ba08-181f7bedc5d8",
   "metadata": {},
   "outputs": [],
   "source": [
    "Introduction"
   ]
  },
  {
   "cell_type": "markdown",
   "id": "f108b064-7423-441a-b95f-17d3de4f87cf",
   "metadata": {},
   "source": [
    "# Analysis of Student Mental Health Data\n",
    "\n",
    "## Project Overview\n",
    "This project involves an exploratory data analysis (EDA) of a dataset on student mental health. The goal is to understand the distribution of various mental health issues among students, with a focus on depression and anxiety. The project includes handling missing values, encoding categorical variables, and visualizing the data through histograms and count plots."
   ]
  },
  {
   "cell_type": "code",
   "execution_count": null,
   "id": "c5a4f252-4a70-4736-8208-18d1613696fc",
   "metadata": {},
   "outputs": [],
   "source": [
    "Loading the Dataset"
   ]
  },
  {
   "cell_type": "markdown",
   "id": "8aa28edf-302a-4309-9577-11f83d656e38",
   "metadata": {},
   "source": [
    "## Loading the Dataset\n",
    "In this step, we load the dataset using Pandas and display the first few rows to understand its structure."
   ]
  },
  {
   "cell_type": "code",
   "execution_count": null,
   "id": "326ea84a-797d-4af8-b65e-bcdd2f7e11f8",
   "metadata": {},
   "outputs": [],
   "source": [
    "import pandas as pd\n",
    "\n",
    "data = pd.read_csv(r'C:\\Users\\rosek\\Desktop\\Student mental health data set.csv')\n",
    "\n",
    "data.head()\n"
   ]
  },
  {
   "cell_type": "code",
   "execution_count": null,
   "id": "78853cec-9488-484b-8fe0-f4ff102b964a",
   "metadata": {},
   "outputs": [],
   "source": [
    "Displaying Basic Information"
   ]
  },
  {
   "cell_type": "markdown",
   "id": "9df78505-3192-4af2-ba1c-d099e7a4b9c2",
   "metadata": {},
   "source": [
    "## Displaying Basic Information\n",
    "We will display basic information about the dataset, including its columns and missing values."
   ]
  },
  {
   "cell_type": "code",
   "execution_count": null,
   "id": "67ce1179-7df0-4233-a1c7-e4e4fa14b95c",
   "metadata": {},
   "outputs": [],
   "source": [
    "print(data.columns)\n",
    "\n",
    "print(data.isnull().sum())"
   ]
  },
  {
   "cell_type": "code",
   "execution_count": null,
   "id": "27391e1a-a864-4b31-bd19-5a8a828d47e8",
   "metadata": {},
   "outputs": [],
   "source": [
    "Handling Missing Values"
   ]
  },
  {
   "cell_type": "markdown",
   "id": "90d5b504-ff14-4ba8-9cb4-25acf21c838c",
   "metadata": {},
   "source": [
    "## Handling Missing Values\n",
    "We will handle missing values using the SimpleImputer from scikit-learn with the strategy of 'most_frequent'."
   ]
  },
  {
   "cell_type": "code",
   "execution_count": null,
   "id": "205fa5be-46f6-484a-a7b9-ad467ab87052",
   "metadata": {},
   "outputs": [],
   "source": [
    "from sklearn.impute import SimpleImputer\n",
    "\n",
    "imputer = SimpleImputer(strategy='most_frequent')\n",
    "data_imputed = pd.DataFrame(imputer.fit_transform(data), columns=data.columns)"
   ]
  },
  {
   "cell_type": "code",
   "execution_count": null,
   "id": "68d44f65-a81d-4a73-af00-ccd15b3a064a",
   "metadata": {},
   "outputs": [],
   "source": [
    "Encoding Categorical Values"
   ]
  },
  {
   "cell_type": "markdown",
   "id": "51b059de-4dc9-4316-a7ee-fe49bb5cd030",
   "metadata": {},
   "source": [
    "## Encoding Categorical Variables\n",
    "We will encode categorical variables using LabelEncoder from scikit-learn."
   ]
  },
  {
   "cell_type": "code",
   "execution_count": null,
   "id": "9124c9af-ccd3-497c-87fc-93562b5c0e4f",
   "metadata": {},
   "outputs": [],
   "source": [
    "from sklearn.preprocessing import LabelEncoder\n",
    "\n",
    "data_imputed = data_imputed.drop(columns=['Timestamp'])\n",
    "\n",
    "encoder = LabelEncoder()\n",
    "data_imputed['Choose your gender'] = encoder.fit_transform(data_imputed['Choose your gender'])\n",
    "data_imputed['What is your course?'] = encoder.fit_transform(data_imputed['What is your course?'])\n",
    "data_imputed['Marital status'] = encoder.fit_transform(data_imputed['Marital status'])"
   ]
  },
  {
   "cell_type": "code",
   "execution_count": null,
   "id": "b9ac0f69-abb1-4178-830b-36f2cd0915ec",
   "metadata": {},
   "outputs": [],
   "source": [
    "Exploratory Data Analysis (EDA)"
   ]
  },
  {
   "cell_type": "markdown",
   "id": "6c4a026e-8c10-4556-82c4-3a21db2f5d76",
   "metadata": {},
   "source": [
    "## Exploratory Data Analysis (EDA)\n",
    "In this step, we will perform exploratory data analysis to understand the distribution of age and the count of depression and anxiety among students."
   ]
  },
  {
   "cell_type": "code",
   "execution_count": null,
   "id": "77ac4c3c-6c96-49e3-92e5-b9fbdeb16ad9",
   "metadata": {},
   "outputs": [],
   "source": [
    "import matplotlib.pyplot as plt\n",
    "import seaborn as sns"
   ]
  },
  {
   "cell_type": "code",
   "execution_count": null,
   "id": "e26ce4ae-ae39-401b-873e-c319d1a2907a",
   "metadata": {},
   "outputs": [],
   "source": [
    "Visualizations"
   ]
  },
  {
   "cell_type": "markdown",
   "id": "fb131cba-e26d-43ca-8ce2-1ef9e5208614",
   "metadata": {},
   "source": [
    "### Distribution of Age\n",
    "We will plot a histogram to visualize the distribution of age among students."
   ]
  },
  {
   "cell_type": "code",
   "execution_count": null,
   "id": "e28cdf75-e9a8-4b92-9f29-695e038b42da",
   "metadata": {},
   "outputs": [],
   "source": [
    "sns.histplot(data_imputed['Age'], bins=20, kde=True)\n",
    "plt.title('Distribution of Age')\n",
    "plt.show()"
   ]
  },
  {
   "cell_type": "markdown",
   "id": "18b1d0f9-df20-4f5b-870d-06ee07b32206",
   "metadata": {},
   "source": [
    "### Count of Depression\n",
    "We will plot a count plot to visualize the count of students with and without depression."
   ]
  },
  {
   "cell_type": "code",
   "execution_count": null,
   "id": "6fb95e66-1565-4655-9954-dafa8ebbb3a2",
   "metadata": {},
   "outputs": [],
   "source": [
    "sns.countplot(x='Do you have Depression?', data=data_imputed)\n",
    "plt.title('Count of Depression')\n",
    "plt.xlabel('Do you have Depression?')\n",
    "plt.ylabel('Count')\n",
    "plt.show()"
   ]
  },
  {
   "cell_type": "markdown",
   "id": "9ba3c828-346a-44cb-b444-01ef67ef35e9",
   "metadata": {},
   "source": [
    "### Count of Anxiety\n",
    "We will plot a count plot to visualize the count of students with and without anxiety."
   ]
  },
  {
   "cell_type": "code",
   "execution_count": null,
   "id": "68f979cf-4094-4b90-9e21-3a96a3fa96fe",
   "metadata": {},
   "outputs": [],
   "source": [
    "sns.countplot(x='Do you have Anxiety?', data=data_imputed)\n",
    "plt.title('Count of Anxiety')\n",
    "plt.xlabel('Do you have Anxiety?')\n",
    "plt.ylabel('Count')\n",
    "plt.show()"
   ]
  }
 ],
 "metadata": {
  "kernelspec": {
   "display_name": "Python 3 (ipykernel)",
   "language": "python",
   "name": "python3"
  },
  "language_info": {
   "codemirror_mode": {
    "name": "ipython",
    "version": 3
   },
   "file_extension": ".py",
   "mimetype": "text/x-python",
   "name": "python",
   "nbconvert_exporter": "python",
   "pygments_lexer": "ipython3",
   "version": "3.12.4"
  }
 },
 "nbformat": 4,
 "nbformat_minor": 5
}
